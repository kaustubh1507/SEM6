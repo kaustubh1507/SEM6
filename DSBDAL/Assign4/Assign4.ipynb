{
 "cells": [
  {
   "cell_type": "code",
   "execution_count": 3,
   "id": "2aedbb0b-2379-4632-ad00-383d0a46af35",
   "metadata": {},
   "outputs": [
    {
     "name": "stdout",
     "output_type": "stream",
     "text": [
      "               town  area   price\n",
      "0   monroe township  2600  550000\n",
      "1   monroe township  3000  565000\n",
      "2   monroe township  3200  610000\n",
      "3   monroe township  3600  680000\n",
      "4   monroe township  4000  725000\n",
      "5      west windsor  2600  585000\n",
      "6      west windsor  2800  615000\n",
      "7      west windsor  3300  650000\n",
      "8      west windsor  3600  710000\n",
      "9       robinsville  2600  575000\n",
      "10      robinsville  2900  600000\n",
      "11      robinsville  3100  620000\n",
      "12      robinsville  3600  695000\n"
     ]
    }
   ],
   "source": [
    "import pandas as pd\n",
    "from sklearn import \n",
    "df = pd.read_csv('homeprices.csv')\n",
    "print(df)"
   ]
  },
  {
   "cell_type": "code",
   "execution_count": 8,
   "id": "22e3b723-491a-4f8a-a88e-2f6b11e462fe",
   "metadata": {},
   "outputs": [
    {
     "name": "stdout",
     "output_type": "stream",
     "text": [
      "               town  area  town_n\n",
      "0   monroe township  2600       0\n",
      "1   monroe township  3000       0\n",
      "2   monroe township  3200       0\n",
      "3   monroe township  3600       0\n",
      "4   monroe township  4000       0\n",
      "5      west windsor  2600       2\n",
      "6      west windsor  2800       2\n",
      "7      west windsor  3300       2\n",
      "8      west windsor  3600       2\n",
      "9       robinsville  2600       1\n",
      "10      robinsville  2900       1\n",
      "11      robinsville  3100       1\n",
      "12      robinsville  3600       1\n"
     ]
    }
   ],
   "source": [
    "from sklearn.preprocessing import LabelEncoder\n",
    "le = LabelEncoder()\n",
    "inputs = df.drop('price',axis=1)\n",
    "y = df.price\n",
    "inputs['town_n'] = le.fit_transform(inputs['town'])\n",
    "print(inputs)"
   ]
  },
  {
   "cell_type": "code",
   "execution_count": 9,
   "id": "8eeda5d4-15cd-4f16-b97c-b5beda713d3b",
   "metadata": {},
   "outputs": [
    {
     "name": "stdout",
     "output_type": "stream",
     "text": [
      "    area  town_n\n",
      "0   2600       0\n",
      "1   3000       0\n",
      "2   3200       0\n",
      "3   3600       0\n",
      "4   4000       0\n",
      "5   2600       2\n",
      "6   2800       2\n",
      "7   3300       2\n",
      "8   3600       2\n",
      "9   2600       1\n",
      "10  2900       1\n",
      "11  3100       1\n",
      "12  3600       1\n"
     ]
    }
   ],
   "source": [
    "inputs.drop('town',axis=1,inplace = True)\n",
    "print(inputs)"
   ]
  },
  {
   "cell_type": "code",
   "execution_count": 10,
   "id": "a06b704e-d730-4668-8e8d-d3c3b0d27902",
   "metadata": {},
   "outputs": [
    {
     "data": {
      "text/plain": [
       "LinearRegression()"
      ]
     },
     "execution_count": 10,
     "metadata": {},
     "output_type": "execute_result"
    }
   ],
   "source": [
    "from sklearn import linear_model\n",
    "model = linear_model.LinearRegression()\n",
    "model.fit(inputs, y)"
   ]
  },
  {
   "cell_type": "code",
   "execution_count": 13,
   "id": "6533cb15-2a8b-438b-83d0-54c722e18cb5",
   "metadata": {},
   "outputs": [
    {
     "data": {
      "text/plain": [
       "array([604847.25050916])"
      ]
     },
     "execution_count": 13,
     "metadata": {},
     "output_type": "execute_result"
    }
   ],
   "source": [
    "model.predict([[3100,0]])"
   ]
  },
  {
   "cell_type": "code",
   "execution_count": null,
   "id": "86f943ae-0725-44f6-8ad4-1197dd4f07db",
   "metadata": {},
   "outputs": [],
   "source": []
  }
 ],
 "metadata": {
  "kernelspec": {
   "display_name": "Python 3 (ipykernel)",
   "language": "python",
   "name": "python3"
  },
  "language_info": {
   "codemirror_mode": {
    "name": "ipython",
    "version": 3
   },
   "file_extension": ".py",
   "mimetype": "text/x-python",
   "name": "python",
   "nbconvert_exporter": "python",
   "pygments_lexer": "ipython3",
   "version": "3.10.12"
  }
 },
 "nbformat": 4,
 "nbformat_minor": 5
}
