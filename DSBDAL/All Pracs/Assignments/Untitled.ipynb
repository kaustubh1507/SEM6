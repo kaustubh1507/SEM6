{
 "cells": [
  {
   "cell_type": "code",
   "execution_count": 1,
   "id": "8f340c71",
   "metadata": {},
   "outputs": [],
   "source": [
    "from sklearn.feature_extraction.text import TfidfVectorizer\n"
   ]
  },
  {
   "cell_type": "code",
   "execution_count": 2,
   "id": "7cb266cf",
   "metadata": {},
   "outputs": [],
   "source": [
    "documents = [\n",
    "    \"This is the first document.\",\n",
    "    \"This document is the second document.\",\n",
    "    \"And this is the third one.\",\n",
    "    \"Is this the first document?\"\n",
    "]"
   ]
  },
  {
   "cell_type": "code",
   "execution_count": 3,
   "id": "a79d9f44",
   "metadata": {},
   "outputs": [],
   "source": [
    "tfidf_vectorizer = TfidfVectorizer()\n",
    "matrix = tfidf_vectorizer.fit_transform(documents)\n",
    "values = matrix.toarray()\n",
    "terms= tfidf_vectorizer.get_feature_names_out()"
   ]
  },
  {
   "cell_type": "code",
   "execution_count": 4,
   "id": "da9558a3",
   "metadata": {},
   "outputs": [
    {
     "data": {
      "text/plain": [
       "array(['and', 'document', 'first', 'is', 'one', 'second', 'the', 'third',\n",
       "       'this'], dtype=object)"
      ]
     },
     "execution_count": 4,
     "metadata": {},
     "output_type": "execute_result"
    }
   ],
   "source": [
    "terms"
   ]
  },
  {
   "cell_type": "code",
   "execution_count": 6,
   "id": "e7287891",
   "metadata": {},
   "outputs": [
    {
     "name": "stdout",
     "output_type": "stream",
     "text": [
      "Document0:\n",
      "document : 0.46979138557992045\n",
      "first : 0.5802858236844359\n",
      "is : 0.38408524091481483\n",
      "the : 0.38408524091481483\n",
      "this : 0.38408524091481483\n",
      "Document1:\n",
      "document : 0.6876235979836938\n",
      "is : 0.281088674033753\n",
      "second : 0.5386476208856763\n",
      "the : 0.281088674033753\n",
      "this : 0.281088674033753\n",
      "Document2:\n",
      "and : 0.511848512707169\n",
      "is : 0.267103787642168\n",
      "one : 0.511848512707169\n",
      "the : 0.267103787642168\n",
      "third : 0.511848512707169\n",
      "this : 0.267103787642168\n",
      "Document3:\n",
      "document : 0.46979138557992045\n",
      "first : 0.5802858236844359\n",
      "is : 0.38408524091481483\n",
      "the : 0.38408524091481483\n",
      "this : 0.38408524091481483\n"
     ]
    }
   ],
   "source": [
    "for i, doc in enumerate(documents):\n",
    "    print(f\"Document{i}:\")\n",
    "    for j, term in enumerate(terms):\n",
    "        tfidf = values[i][j]\n",
    "        if tfidf!=0:\n",
    "            print(f\"{term} : {tfidf}\")"
   ]
  },
  {
   "cell_type": "code",
   "execution_count": null,
   "id": "60f12d1e",
   "metadata": {},
   "outputs": [],
   "source": []
  }
 ],
 "metadata": {
  "kernelspec": {
   "display_name": "Python 3 (ipykernel)",
   "language": "python",
   "name": "python3"
  },
  "language_info": {
   "codemirror_mode": {
    "name": "ipython",
    "version": 3
   },
   "file_extension": ".py",
   "mimetype": "text/x-python",
   "name": "python",
   "nbconvert_exporter": "python",
   "pygments_lexer": "ipython3",
   "version": "3.11.4"
  }
 },
 "nbformat": 4,
 "nbformat_minor": 5
}
